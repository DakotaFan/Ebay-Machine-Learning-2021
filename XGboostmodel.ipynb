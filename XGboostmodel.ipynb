{
  "cells": [
    {
      "cell_type": "code",
      "execution_count": null,
      "metadata": {
        "colab": {
          "base_uri": "https://localhost:8080/"
        },
        "id": "s5akxnxFcuqV",
        "outputId": "f7019cd9-43d2-4339-bc11-9feaa5c404df"
      },
      "outputs": [
        {
          "name": "stdout",
          "output_type": "stream",
          "text": [
            "Mounted at /content/drive\n",
            "/content/drive/MyDrive/ebay\n"
          ]
        }
      ],
      "source": [
        "\n",
        "import pandas as pd\n",
        "import numpy as np\n",
        "from numpy import random\n",
        "random.seed(1998)\n",
        "from google.colab import drive\n",
        "drive.mount('/content/drive')\n",
        "%cd /content/drive/MyDrive/ebay\n",
        "#%cd /content/drive/MyDrive/tempShare\n",
        "df = pd.read_csv('eBay_ML_Challenge_Dataset_2021_train.tsv', sep='\\t')\n",
        "quiz = pd.read_csv('eBay_ML_Challenge_Dataset_2021_quiz.tsv', sep='\\t')"
      ]
    },
    {
      "cell_type": "code",
      "execution_count": null,
      "metadata": {
        "colab": {
          "base_uri": "https://localhost:8080/"
        },
        "id": "dZA3ki_gillP",
        "outputId": "359cd70a-2cce-4cd6-f987-3297459b8b88"
      },
      "outputs": [
        {
          "name": "stdout",
          "output_type": "stream",
          "text": [
            "Collecting pgeocode\n",
            "  Downloading pgeocode-0.3.0-py3-none-any.whl (8.5 kB)\n",
            "Requirement already satisfied: requests in /usr/local/lib/python3.7/dist-packages (from pgeocode) (2.23.0)\n",
            "Requirement already satisfied: numpy in /usr/local/lib/python3.7/dist-packages (from pgeocode) (1.19.5)\n",
            "Requirement already satisfied: pandas in /usr/local/lib/python3.7/dist-packages (from pgeocode) (1.1.5)\n",
            "Requirement already satisfied: python-dateutil>=2.7.3 in /usr/local/lib/python3.7/dist-packages (from pandas->pgeocode) (2.8.2)\n",
            "Requirement already satisfied: pytz>=2017.2 in /usr/local/lib/python3.7/dist-packages (from pandas->pgeocode) (2018.9)\n",
            "Requirement already satisfied: six>=1.5 in /usr/local/lib/python3.7/dist-packages (from python-dateutil>=2.7.3->pandas->pgeocode) (1.15.0)\n",
            "Requirement already satisfied: certifi>=2017.4.17 in /usr/local/lib/python3.7/dist-packages (from requests->pgeocode) (2021.10.8)\n",
            "Requirement already satisfied: idna<3,>=2.5 in /usr/local/lib/python3.7/dist-packages (from requests->pgeocode) (2.10)\n",
            "Requirement already satisfied: urllib3!=1.25.0,!=1.25.1,<1.26,>=1.21.1 in /usr/local/lib/python3.7/dist-packages (from requests->pgeocode) (1.24.3)\n",
            "Requirement already satisfied: chardet<4,>=3.0.2 in /usr/local/lib/python3.7/dist-packages (from requests->pgeocode) (3.0.4)\n",
            "Installing collected packages: pgeocode\n",
            "Successfully installed pgeocode-0.3.0\n"
          ]
        }
      ],
      "source": [
        "pip install pgeocode"
      ]
    },
    {
      "cell_type": "code",
      "execution_count": null,
      "metadata": {
        "id": "LZ6HhrrEYt7U"
      },
      "outputs": [],
      "source": [
        "import pgeocode\n",
        "import xgboost as xgb\n",
        "from sklearn.metrics import mean_squared_error\n"
      ]
    },
    {
      "cell_type": "code",
      "execution_count": null,
      "metadata": {
        "colab": {
          "base_uri": "https://localhost:8080/",
          "height": 661
        },
        "id": "OleUf3SGzimR",
        "outputId": "4e45e70e-2a9a-4fcf-a274-80e1be61838a"
      },
      "outputs": [
        {
          "data": {
            "text/html": [
              "\n",
              "  <div id=\"df-3e37fce3-2d34-45ce-9fda-fc701308cb7c\">\n",
              "    <div class=\"colab-df-container\">\n",
              "      <div>\n",
              "<style scoped>\n",
              "    .dataframe tbody tr th:only-of-type {\n",
              "        vertical-align: middle;\n",
              "    }\n",
              "\n",
              "    .dataframe tbody tr th {\n",
              "        vertical-align: top;\n",
              "    }\n",
              "\n",
              "    .dataframe thead th {\n",
              "        text-align: right;\n",
              "    }\n",
              "</style>\n",
              "<table border=\"1\" class=\"dataframe\">\n",
              "  <thead>\n",
              "    <tr style=\"text-align: right;\">\n",
              "      <th></th>\n",
              "      <th>b2c_c2c</th>\n",
              "      <th>seller_id</th>\n",
              "      <th>declared_handling_days</th>\n",
              "      <th>acceptance_scan_timestamp</th>\n",
              "      <th>shipment_method_id</th>\n",
              "      <th>shipping_fee</th>\n",
              "      <th>carrier_min_estimate</th>\n",
              "      <th>carrier_max_estimate</th>\n",
              "      <th>item_zip</th>\n",
              "      <th>buyer_zip</th>\n",
              "      <th>category_id</th>\n",
              "      <th>item_price</th>\n",
              "      <th>quantity</th>\n",
              "      <th>payment_datetime</th>\n",
              "      <th>delivery_date</th>\n",
              "      <th>weight</th>\n",
              "      <th>weight_units</th>\n",
              "      <th>package_size</th>\n",
              "      <th>record_number</th>\n",
              "    </tr>\n",
              "  </thead>\n",
              "  <tbody>\n",
              "    <tr>\n",
              "      <th>0</th>\n",
              "      <td>B2C</td>\n",
              "      <td>25454</td>\n",
              "      <td>3.0</td>\n",
              "      <td>2019-03-26 15:11:00.000-07:00</td>\n",
              "      <td>0</td>\n",
              "      <td>0.00</td>\n",
              "      <td>3</td>\n",
              "      <td>5</td>\n",
              "      <td>97219</td>\n",
              "      <td>49040</td>\n",
              "      <td>13</td>\n",
              "      <td>27.95</td>\n",
              "      <td>1</td>\n",
              "      <td>2019-03-24 03:56:49.000-07:00</td>\n",
              "      <td>2019-03-29</td>\n",
              "      <td>5</td>\n",
              "      <td>1</td>\n",
              "      <td>LETTER</td>\n",
              "      <td>1</td>\n",
              "    </tr>\n",
              "    <tr>\n",
              "      <th>1</th>\n",
              "      <td>C2C</td>\n",
              "      <td>6727381</td>\n",
              "      <td>2.0</td>\n",
              "      <td>2018-06-02 12:53:00.000-07:00</td>\n",
              "      <td>0</td>\n",
              "      <td>3.00</td>\n",
              "      <td>3</td>\n",
              "      <td>5</td>\n",
              "      <td>11415-3528</td>\n",
              "      <td>62521</td>\n",
              "      <td>0</td>\n",
              "      <td>20.50</td>\n",
              "      <td>1</td>\n",
              "      <td>2018-06-01 13:43:54.000-07:00</td>\n",
              "      <td>2018-06-05</td>\n",
              "      <td>0</td>\n",
              "      <td>1</td>\n",
              "      <td>PACKAGE_THICK_ENVELOPE</td>\n",
              "      <td>2</td>\n",
              "    </tr>\n",
              "    <tr>\n",
              "      <th>2</th>\n",
              "      <td>B2C</td>\n",
              "      <td>18507</td>\n",
              "      <td>1.0</td>\n",
              "      <td>2019-01-07 16:22:00.000-05:00</td>\n",
              "      <td>0</td>\n",
              "      <td>4.50</td>\n",
              "      <td>3</td>\n",
              "      <td>5</td>\n",
              "      <td>27292</td>\n",
              "      <td>53010</td>\n",
              "      <td>1</td>\n",
              "      <td>19.90</td>\n",
              "      <td>1</td>\n",
              "      <td>2019-01-06 00:02:00.000-05:00</td>\n",
              "      <td>2019-01-10</td>\n",
              "      <td>9</td>\n",
              "      <td>1</td>\n",
              "      <td>PACKAGE_THICK_ENVELOPE</td>\n",
              "      <td>3</td>\n",
              "    </tr>\n",
              "    <tr>\n",
              "      <th>3</th>\n",
              "      <td>B2C</td>\n",
              "      <td>4677</td>\n",
              "      <td>1.0</td>\n",
              "      <td>2018-12-17 16:56:00.000-08:00</td>\n",
              "      <td>0</td>\n",
              "      <td>0.00</td>\n",
              "      <td>3</td>\n",
              "      <td>5</td>\n",
              "      <td>90703</td>\n",
              "      <td>80022</td>\n",
              "      <td>1</td>\n",
              "      <td>35.50</td>\n",
              "      <td>1</td>\n",
              "      <td>2018-12-16 10:28:28.000-08:00</td>\n",
              "      <td>2018-12-21</td>\n",
              "      <td>8</td>\n",
              "      <td>1</td>\n",
              "      <td>PACKAGE_THICK_ENVELOPE</td>\n",
              "      <td>4</td>\n",
              "    </tr>\n",
              "    <tr>\n",
              "      <th>4</th>\n",
              "      <td>B2C</td>\n",
              "      <td>4677</td>\n",
              "      <td>1.0</td>\n",
              "      <td>2018-07-27 16:48:00.000-07:00</td>\n",
              "      <td>0</td>\n",
              "      <td>0.00</td>\n",
              "      <td>3</td>\n",
              "      <td>5</td>\n",
              "      <td>90703</td>\n",
              "      <td>55070</td>\n",
              "      <td>1</td>\n",
              "      <td>25.00</td>\n",
              "      <td>1</td>\n",
              "      <td>2018-07-26 18:20:02.000-07:00</td>\n",
              "      <td>2018-07-30</td>\n",
              "      <td>3</td>\n",
              "      <td>1</td>\n",
              "      <td>PACKAGE_THICK_ENVELOPE</td>\n",
              "      <td>5</td>\n",
              "    </tr>\n",
              "    <tr>\n",
              "      <th>...</th>\n",
              "      <td>...</td>\n",
              "      <td>...</td>\n",
              "      <td>...</td>\n",
              "      <td>...</td>\n",
              "      <td>...</td>\n",
              "      <td>...</td>\n",
              "      <td>...</td>\n",
              "      <td>...</td>\n",
              "      <td>...</td>\n",
              "      <td>...</td>\n",
              "      <td>...</td>\n",
              "      <td>...</td>\n",
              "      <td>...</td>\n",
              "      <td>...</td>\n",
              "      <td>...</td>\n",
              "      <td>...</td>\n",
              "      <td>...</td>\n",
              "      <td>...</td>\n",
              "      <td>...</td>\n",
              "    </tr>\n",
              "    <tr>\n",
              "      <th>14999995</th>\n",
              "      <td>B2C</td>\n",
              "      <td>80139</td>\n",
              "      <td>5.0</td>\n",
              "      <td>2018-05-04 15:36:00.000-05:00</td>\n",
              "      <td>1</td>\n",
              "      <td>9.85</td>\n",
              "      <td>2</td>\n",
              "      <td>5</td>\n",
              "      <td>60010</td>\n",
              "      <td>08846</td>\n",
              "      <td>3</td>\n",
              "      <td>7.35</td>\n",
              "      <td>1</td>\n",
              "      <td>2018-04-30 22:30:00.000-05:00</td>\n",
              "      <td>2018-05-07</td>\n",
              "      <td>32</td>\n",
              "      <td>1</td>\n",
              "      <td>PACKAGE_THICK_ENVELOPE</td>\n",
              "      <td>14999996</td>\n",
              "    </tr>\n",
              "    <tr>\n",
              "      <th>14999996</th>\n",
              "      <td>C2C</td>\n",
              "      <td>452486</td>\n",
              "      <td>2.0</td>\n",
              "      <td>2018-05-02 14:53:00.000-04:00</td>\n",
              "      <td>2</td>\n",
              "      <td>0.00</td>\n",
              "      <td>2</td>\n",
              "      <td>9</td>\n",
              "      <td>47909</td>\n",
              "      <td>29070</td>\n",
              "      <td>1</td>\n",
              "      <td>36.00</td>\n",
              "      <td>1</td>\n",
              "      <td>2018-05-01 19:59:43.000-04:00</td>\n",
              "      <td>2018-05-08</td>\n",
              "      <td>64</td>\n",
              "      <td>1</td>\n",
              "      <td>PACKAGE_THICK_ENVELOPE</td>\n",
              "      <td>14999997</td>\n",
              "    </tr>\n",
              "    <tr>\n",
              "      <th>14999997</th>\n",
              "      <td>B2C</td>\n",
              "      <td>43307</td>\n",
              "      <td>3.0</td>\n",
              "      <td>2018-06-06 15:21:00.000-07:00</td>\n",
              "      <td>2</td>\n",
              "      <td>2.99</td>\n",
              "      <td>2</td>\n",
              "      <td>9</td>\n",
              "      <td>91766</td>\n",
              "      <td>62363</td>\n",
              "      <td>0</td>\n",
              "      <td>7.99</td>\n",
              "      <td>1</td>\n",
              "      <td>2018-06-05 14:20:14.000-07:00</td>\n",
              "      <td>2018-06-11</td>\n",
              "      <td>0</td>\n",
              "      <td>1</td>\n",
              "      <td>NONE</td>\n",
              "      <td>14999998</td>\n",
              "    </tr>\n",
              "    <tr>\n",
              "      <th>14999998</th>\n",
              "      <td>B2C</td>\n",
              "      <td>24235</td>\n",
              "      <td>1.0</td>\n",
              "      <td>2018-12-17 10:55:00.000-05:00</td>\n",
              "      <td>0</td>\n",
              "      <td>0.00</td>\n",
              "      <td>3</td>\n",
              "      <td>5</td>\n",
              "      <td>18011</td>\n",
              "      <td>000</td>\n",
              "      <td>1</td>\n",
              "      <td>34.99</td>\n",
              "      <td>1</td>\n",
              "      <td>2018-12-16 15:01:46.000-05:00</td>\n",
              "      <td>2018-12-20</td>\n",
              "      <td>13</td>\n",
              "      <td>1</td>\n",
              "      <td>PACKAGE_THICK_ENVELOPE</td>\n",
              "      <td>14999999</td>\n",
              "    </tr>\n",
              "    <tr>\n",
              "      <th>14999999</th>\n",
              "      <td>C2C</td>\n",
              "      <td>535916</td>\n",
              "      <td>3.0</td>\n",
              "      <td>2018-05-03 12:56:00.000-04:00</td>\n",
              "      <td>1</td>\n",
              "      <td>7.45</td>\n",
              "      <td>2</td>\n",
              "      <td>5</td>\n",
              "      <td>16686</td>\n",
              "      <td>65673</td>\n",
              "      <td>3</td>\n",
              "      <td>205.50</td>\n",
              "      <td>1</td>\n",
              "      <td>2018-05-01 11:20:08.000-04:00</td>\n",
              "      <td>2018-05-07</td>\n",
              "      <td>15</td>\n",
              "      <td>1</td>\n",
              "      <td>PACKAGE_THICK_ENVELOPE</td>\n",
              "      <td>15000000</td>\n",
              "    </tr>\n",
              "  </tbody>\n",
              "</table>\n",
              "<p>15000000 rows × 19 columns</p>\n",
              "</div>\n",
              "      <button class=\"colab-df-convert\" onclick=\"convertToInteractive('df-3e37fce3-2d34-45ce-9fda-fc701308cb7c')\"\n",
              "              title=\"Convert this dataframe to an interactive table.\"\n",
              "              style=\"display:none;\">\n",
              "        \n",
              "  <svg xmlns=\"http://www.w3.org/2000/svg\" height=\"24px\"viewBox=\"0 0 24 24\"\n",
              "       width=\"24px\">\n",
              "    <path d=\"M0 0h24v24H0V0z\" fill=\"none\"/>\n",
              "    <path d=\"M18.56 5.44l.94 2.06.94-2.06 2.06-.94-2.06-.94-.94-2.06-.94 2.06-2.06.94zm-11 1L8.5 8.5l.94-2.06 2.06-.94-2.06-.94L8.5 2.5l-.94 2.06-2.06.94zm10 10l.94 2.06.94-2.06 2.06-.94-2.06-.94-.94-2.06-.94 2.06-2.06.94z\"/><path d=\"M17.41 7.96l-1.37-1.37c-.4-.4-.92-.59-1.43-.59-.52 0-1.04.2-1.43.59L10.3 9.45l-7.72 7.72c-.78.78-.78 2.05 0 2.83L4 21.41c.39.39.9.59 1.41.59.51 0 1.02-.2 1.41-.59l7.78-7.78 2.81-2.81c.8-.78.8-2.07 0-2.86zM5.41 20L4 18.59l7.72-7.72 1.47 1.35L5.41 20z\"/>\n",
              "  </svg>\n",
              "      </button>\n",
              "      \n",
              "  <style>\n",
              "    .colab-df-container {\n",
              "      display:flex;\n",
              "      flex-wrap:wrap;\n",
              "      gap: 12px;\n",
              "    }\n",
              "\n",
              "    .colab-df-convert {\n",
              "      background-color: #E8F0FE;\n",
              "      border: none;\n",
              "      border-radius: 50%;\n",
              "      cursor: pointer;\n",
              "      display: none;\n",
              "      fill: #1967D2;\n",
              "      height: 32px;\n",
              "      padding: 0 0 0 0;\n",
              "      width: 32px;\n",
              "    }\n",
              "\n",
              "    .colab-df-convert:hover {\n",
              "      background-color: #E2EBFA;\n",
              "      box-shadow: 0px 1px 2px rgba(60, 64, 67, 0.3), 0px 1px 3px 1px rgba(60, 64, 67, 0.15);\n",
              "      fill: #174EA6;\n",
              "    }\n",
              "\n",
              "    [theme=dark] .colab-df-convert {\n",
              "      background-color: #3B4455;\n",
              "      fill: #D2E3FC;\n",
              "    }\n",
              "\n",
              "    [theme=dark] .colab-df-convert:hover {\n",
              "      background-color: #434B5C;\n",
              "      box-shadow: 0px 1px 3px 1px rgba(0, 0, 0, 0.15);\n",
              "      filter: drop-shadow(0px 1px 2px rgba(0, 0, 0, 0.3));\n",
              "      fill: #FFFFFF;\n",
              "    }\n",
              "  </style>\n",
              "\n",
              "      <script>\n",
              "        const buttonEl =\n",
              "          document.querySelector('#df-3e37fce3-2d34-45ce-9fda-fc701308cb7c button.colab-df-convert');\n",
              "        buttonEl.style.display =\n",
              "          google.colab.kernel.accessAllowed ? 'block' : 'none';\n",
              "\n",
              "        async function convertToInteractive(key) {\n",
              "          const element = document.querySelector('#df-3e37fce3-2d34-45ce-9fda-fc701308cb7c');\n",
              "          const dataTable =\n",
              "            await google.colab.kernel.invokeFunction('convertToInteractive',\n",
              "                                                     [key], {});\n",
              "          if (!dataTable) return;\n",
              "\n",
              "          const docLinkHtml = 'Like what you see? Visit the ' +\n",
              "            '<a target=\"_blank\" href=https://colab.research.google.com/notebooks/data_table.ipynb>data table notebook</a>'\n",
              "            + ' to learn more about interactive tables.';\n",
              "          element.innerHTML = '';\n",
              "          dataTable['output_type'] = 'display_data';\n",
              "          await google.colab.output.renderOutput(dataTable, element);\n",
              "          const docLink = document.createElement('div');\n",
              "          docLink.innerHTML = docLinkHtml;\n",
              "          element.appendChild(docLink);\n",
              "        }\n",
              "      </script>\n",
              "    </div>\n",
              "  </div>\n",
              "  "
            ],
            "text/plain": [
              "         b2c_c2c  seller_id  ...            package_size record_number\n",
              "0            B2C      25454  ...                  LETTER             1\n",
              "1            C2C    6727381  ...  PACKAGE_THICK_ENVELOPE             2\n",
              "2            B2C      18507  ...  PACKAGE_THICK_ENVELOPE             3\n",
              "3            B2C       4677  ...  PACKAGE_THICK_ENVELOPE             4\n",
              "4            B2C       4677  ...  PACKAGE_THICK_ENVELOPE             5\n",
              "...          ...        ...  ...                     ...           ...\n",
              "14999995     B2C      80139  ...  PACKAGE_THICK_ENVELOPE      14999996\n",
              "14999996     C2C     452486  ...  PACKAGE_THICK_ENVELOPE      14999997\n",
              "14999997     B2C      43307  ...                    NONE      14999998\n",
              "14999998     B2C      24235  ...  PACKAGE_THICK_ENVELOPE      14999999\n",
              "14999999     C2C     535916  ...  PACKAGE_THICK_ENVELOPE      15000000\n",
              "\n",
              "[15000000 rows x 19 columns]"
            ]
          },
          "execution_count": 4,
          "metadata": {},
          "output_type": "execute_result"
        }
      ],
      "source": [
        "df"
      ]
    },
    {
      "cell_type": "markdown",
      "metadata": {
        "id": "tYmcoH-hgZlF"
      },
      "source": [
        "#Preprocessing Data and feature engineering"
      ]
    },
    {
      "cell_type": "code",
      "execution_count": null,
      "metadata": {
        "id": "aUg2c7mIXijH"
      },
      "outputs": [],
      "source": [
        "dist = pgeocode.GeoDistance('US')\n",
        "postal = pgeocode.Nominatim('US')\n",
        "\n",
        "def calculate_distance(subset):\n",
        "  x = subset['buyer_zip_new']\n",
        "  y = subset['item_zip_new']\n",
        "  distance = dist.query_postal_code(x.to_numpy(), y.to_numpy())\n",
        "  subset['distance'] = pd.DataFrame({'col': distance})\n",
        "  return subset\n",
        "\n",
        "def return_state(subset):\n",
        "  x = subset['buyer_zip_new']\n",
        "  y = subset['item_zip_new']\n",
        "  buyer_states = postal.query_postal_code(x.to_numpy())['state_code']\n",
        "  item_states = postal.query_postal_code(y.to_numpy())['state_code']\n",
        "  #the adding latitude is here, in case you need to delete it in the future\n",
        "  item_lat = postal.query_postal_code(y.to_numpy())['latitude']\n",
        "  item_long = postal.query_postal_code(y.to_numpy())['longitude']\n",
        "  buyer_lat = postal.query_postal_code(x.to_numpy())['latitude']\n",
        "  buyer_long = postal.query_postal_code(x.to_numpy())['longitude']\n",
        "\n",
        "  return buyer_states.tolist(), item_states.tolist(), item_lat.tolist(), item_long.tolist(), buyer_lat.tolist(), buyer_long.tolist() \n",
        "\n",
        "\n",
        "  \n",
        "def calculating_duration(df):\n",
        "  df['delivery_date2'] = df['delivery_date'].apply(lambda x: x[:10])\n",
        "  #convert to datetime for further calculation\n",
        "  df['delivery_date2'] = pd.to_datetime(df['delivery_date2'])\n",
        "  #first have to check if there is incorrect data in the delivery time and payment time\n",
        "  df['duration'] = df['delivery_date2'] - df['acceptance_scan_time2']\n",
        "  df['duration'] = df.loc[:, 'duration'].dt.days\n",
        "  return df\n",
        "\n",
        "def assign_state_code(df):\n",
        "  buyer, item,item_lat, item_long, buyer_lat, buyer_long = return_state(df)\n",
        "  df['buyer_state'] = pd.DataFrame({'col': buyer})\n",
        "  df['item_state'] = pd.DataFrame({'col': item})\n",
        "  '''here you add the lattitude and longtitude code'''\n",
        "  df['item_lat'] = pd.DataFrame({'col': item_lat})\n",
        "  df['item_long'] = pd.DataFrame({'col': item_long})\n",
        "  df['buyer_lat'] = pd.DataFrame({'col': buyer_lat})\n",
        "  df['buyer_long'] = pd.DataFrame({'col': buyer_long})\n",
        "  return df\n",
        "\n",
        "# 25% quantile \n",
        "def q25(x):\n",
        "    return x.quantile(0.25)\n",
        "# 75th Percentile\n",
        "def q75(x):\n",
        "    return x.quantile(0.75)\n",
        "\n"
      ]
    },
    {
      "cell_type": "code",
      "execution_count": null,
      "metadata": {
        "id": "CfObBcAWgYW3"
      },
      "outputs": [],
      "source": [
        "def preprocessing_data(df):\n",
        "  #calculate the time zone difference between seller and buyer\n",
        "  df['time_zone_difference'] = df['acceptance_scan_timestamp'].apply(lambda x: x[-6:-3]).astype(int) - df['payment_datetime'].apply(lambda x: x[-6:-3]).astype(int) \n",
        "  #calculate the seller hours when the payment is being made\n",
        "  df['seller_hour'] = df['payment_datetime'].apply(lambda x: x[11:13]).astype(int) + df['time_zone_difference'] \n",
        "  #check if the seller hour is after 2 pm\n",
        "  lst_2pm = df['seller_hour'] >= 14\n",
        "  df['larger_than_2pm'] = pd.DataFrame({'col': lst_2pm})\n",
        "  #data cleaning for the time data\n",
        "  df['acceptance_scan_time2'] = df['acceptance_scan_timestamp'].apply(lambda x: x[:10])\n",
        "  df['payment_date2'] = df['payment_datetime'].apply(lambda x: x[:10])\n",
        "  #convert to datetime for further calculation\n",
        "  df['payment_date2'] = pd.to_datetime(df['payment_date2'])\n",
        "  df['acceptance_scan_time2'] = pd.to_datetime(df['acceptance_scan_time2'])\n",
        "  # extract day of month, year, \n",
        "  df['pay_month'] = df.payment_date2.dt.month\n",
        "  df['pay_year'] = df.payment_date2.dt.year\n",
        "  df['scan_month'] = df.acceptance_scan_time2.dt.month\n",
        "\n",
        "  #extract daytime of the payment time, and acceptance time\n",
        "  df['payment_hour'] = df['payment_datetime'].apply(lambda x: x[11:13]).astype(int)\n",
        "  df['scan_hour'] = df['acceptance_scan_timestamp'].apply(lambda x: x[11:13]).astype(int)\n",
        "\n",
        "  #extract the day of the week of payment time and acceptance time\n",
        "  df['Weekday_scan'] = df['acceptance_scan_time2'].dt.weekday\n",
        "  df['Weekday_pay'] = df['payment_date2'].dt.weekday\n",
        "\n",
        "\n",
        "  #extract quarter of the payment\n",
        "  df['payment_quarter'] = df['payment_date2'].dt.quarter\n",
        "  df['min_delivery'] = df['carrier_min_estimate'] + df['declared_handling_days'] #new feature\n",
        "  df['max_delivery'] = df['carrier_max_estimate'] + df['declared_handling_days'] #new feature\n",
        "\n",
        "  #convert the zip code to string \n",
        "  df['buyer_zip_new'] = df['buyer_zip'].astype(str).apply(lambda x: x[:5])\n",
        "  df['item_zip_new'] = df['item_zip'].astype(str).apply(lambda x: x[:5])\n",
        "  \n",
        "  #convert the categorical data to boolean type of data\n",
        "  df['b2c_c2c'] = df['b2c_c2c'].astype(str)\n",
        "  lst_b2b = df.iloc[:, 0] == 'B2C'\n",
        "  df['B2B'] = pd.DataFrame({'col': lst_b2b})\n",
        "\n",
        "  #return the state_code of each item and customer\n",
        "\n",
        "  '''here you also add the lattitude and longtitude'''\n",
        "\n",
        "  assign_state_code(df)\n",
        "\n",
        "\n",
        "  #calculate the distance between item and buyer\n",
        "  df = calculate_distance(df)\n",
        "\n",
        "  #assign state code to each item and customer\n",
        "  df = assign_state_code(df)\n",
        "  \n",
        "  #check if there is miss-matching date for delivery and payment\n",
        "  package_dic = {'NONE': 0, 'LETTER': 1, 'PACKAGE_THICK_ENVELOPE': 2, 'LARGE_ENVELOPE': 3, 'LARGE_PACKAGE': 4, 'EXTRA_LARGE_PACKAGE': 5,  'VERY_LARGE_PACKAGE': 6}\n",
        "  df.loc[:, 'size_ordinal'] = df.package_size.map(package_dic)\n",
        "\n",
        "  return df"
      ]
    },
    {
      "cell_type": "code",
      "execution_count": null,
      "metadata": {
        "id": "pm-hGP0hbGKl"
      },
      "outputs": [],
      "source": [
        "def adding_features(df):\n",
        "  #check if the customer is making a purchase during weekends, if the carrier is scanning/working on weekends\n",
        "  #since the Friday = 4, Saturday = 5, and Sunday = 6\n",
        "  df['is_payment_weekend'] = df['Weekday_pay'] > 4\n",
        "  df['is_scan_weeknd'] = df['Weekday_scan'] > 4\n",
        "\n",
        "  return df"
      ]
    },
    {
      "cell_type": "code",
      "execution_count": null,
      "metadata": {
        "id": "0F3C1HDQkjGW"
      },
      "outputs": [],
      "source": [
        "df = preprocessing_data(df)\n",
        "quiz = preprocessing_data(quiz)\n",
        "df = adding_features(df)\n",
        "quiz = adding_features(quiz)\n",
        "\n",
        "#adding our target variable to the dataframe, which is the duration between the carrier scanning time and the delivery date\n",
        "df = calculating_duration(df)\n"
      ]
    },
    {
      "cell_type": "code",
      "execution_count": null,
      "metadata": {
        "id": "uZxrQwXR3ZJC"
      },
      "outputs": [],
      "source": [
        "#we can find that the there is a lot of missing distance(179057 data)\n",
        "#this is partially because there are international customers and sellers\n",
        "#we are gonna use a different method to get their distance\n",
        "\n",
        "missing_dist = df[df['distance'].isnull()]\n",
        "\n"
      ]
    },
    {
      "cell_type": "code",
      "execution_count": null,
      "metadata": {
        "colab": {
          "base_uri": "https://localhost:8080/"
        },
        "id": "n-uQHItslIWl",
        "outputId": "cb2338d4-42ec-4663-f38c-6921290728e2"
      },
      "outputs": [
        {
          "data": {
            "text/plain": [
              "array(['MI', 'IL', 'WI', 'CO', 'MN', 'TX', 'SC', 'FL', 'UT', 'MD', 'NC',\n",
              "       'OH', 'MO', 'CA', 'PA', 'ID', 'NY', 'KS', 'GA', 'ME', 'KY', 'VA',\n",
              "       'MA', 'AZ', 'AL', 'NJ', 'MT', 'CT', 'WY', 'OK', 'LA', 'IN', 'TN',\n",
              "       'NE', 'WA', 'NM', 'MS', 'AR', 'OR', 'IA', 'WV', 'VT', 'NV', nan,\n",
              "       'ND', 'SD', 'DC', 'NH', 'DE', 'RI', 'AK', 'HI'], dtype=object)"
            ]
          },
          "execution_count": 10,
          "metadata": {},
          "output_type": "execute_result"
        }
      ],
      "source": [
        "US_state = df['buyer_state'].unique()\n",
        "US_state"
      ]
    },
    {
      "cell_type": "code",
      "execution_count": null,
      "metadata": {
        "colab": {
          "base_uri": "https://localhost:8080/",
          "height": 236
        },
        "id": "ZLa7GCHmmT1b",
        "outputId": "0008db5b-9cba-4f84-b2be-954524c18408"
      },
      "outputs": [
        {
          "ename": "NameError",
          "evalue": "ignored",
          "output_type": "error",
          "traceback": [
            "\u001b[0;31m---------------------------------------------------------------------------\u001b[0m",
            "\u001b[0;31mNameError\u001b[0m                                 Traceback (most recent call last)",
            "\u001b[0;32m<ipython-input-11-12771560a4c8>\u001b[0m in \u001b[0;36m<module>\u001b[0;34m()\u001b[0m\n\u001b[1;32m      1\u001b[0m \u001b[0;31m#sometimes the US states will have the same abbreviation as other countries' country code\u001b[0m\u001b[0;34m\u001b[0m\u001b[0;34m\u001b[0m\u001b[0;34m\u001b[0m\u001b[0m\n\u001b[1;32m      2\u001b[0m \u001b[0;32mfor\u001b[0m \u001b[0mi\u001b[0m \u001b[0;32min\u001b[0m \u001b[0mrange\u001b[0m\u001b[0;34m(\u001b[0m\u001b[0;36m52\u001b[0m\u001b[0;34m)\u001b[0m\u001b[0;34m:\u001b[0m\u001b[0;34m\u001b[0m\u001b[0;34m\u001b[0m\u001b[0m\n\u001b[0;32m----> 3\u001b[0;31m   \u001b[0;32mif\u001b[0m \u001b[0mUS_state\u001b[0m\u001b[0;34m[\u001b[0m\u001b[0mi\u001b[0m\u001b[0;34m]\u001b[0m \u001b[0;32min\u001b[0m \u001b[0mmissing_state\u001b[0m\u001b[0;34m:\u001b[0m\u001b[0;34m\u001b[0m\u001b[0;34m\u001b[0m\u001b[0m\n\u001b[0m\u001b[1;32m      4\u001b[0m     \u001b[0mprint\u001b[0m\u001b[0;34m(\u001b[0m\u001b[0;34m\"collision detect\"\u001b[0m\u001b[0;34m)\u001b[0m\u001b[0;34m\u001b[0m\u001b[0;34m\u001b[0m\u001b[0m\n\u001b[1;32m      5\u001b[0m     \u001b[0mprint\u001b[0m\u001b[0;34m(\u001b[0m\u001b[0mUS_state\u001b[0m\u001b[0;34m[\u001b[0m\u001b[0mi\u001b[0m\u001b[0;34m]\u001b[0m\u001b[0;34m)\u001b[0m\u001b[0;34m\u001b[0m\u001b[0;34m\u001b[0m\u001b[0m\n",
            "\u001b[0;31mNameError\u001b[0m: name 'missing_state' is not defined"
          ]
        }
      ],
      "source": [
        "#sometimes the US states will have the same abbreviation as other countries' country code\n",
        "for i in range(52):\n",
        "  if US_state[i] in missing_state:\n",
        "    print(\"collision detect\")\n",
        "    print(US_state[i])"
      ]
    },
    {
      "cell_type": "code",
      "execution_count": null,
      "metadata": {
        "id": "AAeNMN278KZM"
      },
      "outputs": [],
      "source": [
        "df['Is_within_US'] = df['distance'].notnull()\n"
      ]
    },
    {
      "cell_type": "code",
      "execution_count": null,
      "metadata": {
        "id": "KNPKAtaA9MKb"
      },
      "outputs": [],
      "source": [
        "quiz['Is_within_US'] = quiz['distance'].notnull()"
      ]
    },
    {
      "cell_type": "code",
      "execution_count": null,
      "metadata": {
        "id": "o03qtWlZ764D"
      },
      "outputs": [],
      "source": [
        "'''\n",
        "\n",
        "def get_country_code(zip_code):\n",
        "  \n",
        "  for i in pgeocode.COUNTRIES_VALID:\n",
        "    nomi = pgeocode.Nominatim(i)\n",
        "   # this code will always return a dataframe\n",
        "   # if the postal_code has no match, the df values will all be NaN \n",
        "    df = nomi.query_postal_code(zip_code)\n",
        "    if type(df.country_code) == str:\n",
        "      return df.country_code, df.latitude, df.longitude\n",
        "\n",
        "def get_location_for_array(lst):\n",
        "  state_name = []\n",
        "  latitude = []\n",
        "  longtitude = []\n",
        "  for i in lst:\n",
        "    try: \n",
        "      state, la, long = get_country_code(i)\n",
        "      state_name.append(state)\n",
        "      latitude.append(la)\n",
        "      longtitude.append(long)\n",
        "      print('{} th one is done'.format(i))\n",
        "    except:\n",
        "      state_name.append(float('nan'))\n",
        "      latitude.append(float('nan'))\n",
        "      longtitude.append(float('nan'))\n",
        "      print('{} th one is done'.format(i))\n",
        "    \n",
        "  info = { 'missing_zip': lst , 'state_name' : state_name,\n",
        "        'latitude': latitude,\n",
        "        'longtitude': longtitude\n",
        "       }\n",
        "\n",
        "  df_new = pd.DataFrame.from_dict(info)\n",
        "  df_new.to_csv('missing_new.csv')\n",
        "  return df_new\n",
        "\n",
        "'''"
      ]
    },
    {
      "cell_type": "code",
      "execution_count": null,
      "metadata": {
        "id": "oNAZqRm25DxF"
      },
      "outputs": [],
      "source": [
        "df = df.loc[df['duration'] >= 0 ]"
      ]
    },
    {
      "cell_type": "code",
      "execution_count": null,
      "metadata": {
        "colab": {
          "base_uri": "https://localhost:8080/",
          "height": 609
        },
        "id": "ZtQhhpiODaNN",
        "outputId": "63cf3ebb-bad0-4ea5-e00d-ac438c4fba87"
      },
      "outputs": [
        {
          "data": {
            "text/html": [
              "<div>\n",
              "<style scoped>\n",
              "    .dataframe tbody tr th:only-of-type {\n",
              "        vertical-align: middle;\n",
              "    }\n",
              "\n",
              "    .dataframe tbody tr th {\n",
              "        vertical-align: top;\n",
              "    }\n",
              "\n",
              "    .dataframe thead th {\n",
              "        text-align: right;\n",
              "    }\n",
              "</style>\n",
              "<table border=\"1\" class=\"dataframe\">\n",
              "  <thead>\n",
              "    <tr style=\"text-align: right;\">\n",
              "      <th></th>\n",
              "      <th>b2c_c2c</th>\n",
              "      <th>seller_id</th>\n",
              "      <th>declared_handling_days</th>\n",
              "      <th>acceptance_scan_timestamp</th>\n",
              "      <th>shipment_method_id</th>\n",
              "      <th>shipping_fee</th>\n",
              "      <th>carrier_min_estimate</th>\n",
              "      <th>carrier_max_estimate</th>\n",
              "      <th>item_zip</th>\n",
              "      <th>buyer_zip</th>\n",
              "      <th>category_id</th>\n",
              "      <th>item_price</th>\n",
              "      <th>quantity</th>\n",
              "      <th>payment_datetime</th>\n",
              "      <th>delivery_date</th>\n",
              "      <th>weight</th>\n",
              "      <th>weight_units</th>\n",
              "      <th>package_size</th>\n",
              "      <th>record_number</th>\n",
              "      <th>time_zone_difference</th>\n",
              "      <th>seller_hour</th>\n",
              "      <th>larger_than_2pm</th>\n",
              "      <th>acceptance_scan_time2</th>\n",
              "      <th>payment_date2</th>\n",
              "      <th>pay_month</th>\n",
              "      <th>pay_year</th>\n",
              "      <th>scan_month</th>\n",
              "      <th>payment_hour</th>\n",
              "      <th>scan_hour</th>\n",
              "      <th>Weekday_scan</th>\n",
              "      <th>Weekday_pay</th>\n",
              "      <th>payment_quarter</th>\n",
              "      <th>min_delivery</th>\n",
              "      <th>max_delivery</th>\n",
              "      <th>buyer_zip_new</th>\n",
              "      <th>item_zip_new</th>\n",
              "      <th>B2B</th>\n",
              "      <th>buyer_state</th>\n",
              "      <th>item_state</th>\n",
              "      <th>distance</th>\n",
              "      <th>size_ordinal</th>\n",
              "      <th>delivery_date2</th>\n",
              "      <th>duration</th>\n",
              "    </tr>\n",
              "  </thead>\n",
              "  <tbody>\n",
              "    <tr>\n",
              "      <th>0</th>\n",
              "      <td>B2C</td>\n",
              "      <td>25454</td>\n",
              "      <td>3.0</td>\n",
              "      <td>2019-03-26 15:11:00.000-07:00</td>\n",
              "      <td>0</td>\n",
              "      <td>0.00</td>\n",
              "      <td>3</td>\n",
              "      <td>5</td>\n",
              "      <td>97219</td>\n",
              "      <td>49040</td>\n",
              "      <td>13</td>\n",
              "      <td>27.95</td>\n",
              "      <td>1</td>\n",
              "      <td>2019-03-24 03:56:49.000-07:00</td>\n",
              "      <td>2019-03-29</td>\n",
              "      <td>5</td>\n",
              "      <td>1</td>\n",
              "      <td>LETTER</td>\n",
              "      <td>1</td>\n",
              "      <td>0</td>\n",
              "      <td>3</td>\n",
              "      <td>False</td>\n",
              "      <td>2019-03-26</td>\n",
              "      <td>2019-03-24</td>\n",
              "      <td>3</td>\n",
              "      <td>2019</td>\n",
              "      <td>3</td>\n",
              "      <td>3</td>\n",
              "      <td>15</td>\n",
              "      <td>1</td>\n",
              "      <td>6</td>\n",
              "      <td>1</td>\n",
              "      <td>6.0</td>\n",
              "      <td>8.0</td>\n",
              "      <td>49040</td>\n",
              "      <td>97219</td>\n",
              "      <td>True</td>\n",
              "      <td>MI</td>\n",
              "      <td>OR</td>\n",
              "      <td>3001.984391</td>\n",
              "      <td>1</td>\n",
              "      <td>2019-03-29</td>\n",
              "      <td>3</td>\n",
              "    </tr>\n",
              "    <tr>\n",
              "      <th>1</th>\n",
              "      <td>C2C</td>\n",
              "      <td>6727381</td>\n",
              "      <td>2.0</td>\n",
              "      <td>2018-06-02 12:53:00.000-07:00</td>\n",
              "      <td>0</td>\n",
              "      <td>3.00</td>\n",
              "      <td>3</td>\n",
              "      <td>5</td>\n",
              "      <td>11415-3528</td>\n",
              "      <td>62521</td>\n",
              "      <td>0</td>\n",
              "      <td>20.50</td>\n",
              "      <td>1</td>\n",
              "      <td>2018-06-01 13:43:54.000-07:00</td>\n",
              "      <td>2018-06-05</td>\n",
              "      <td>0</td>\n",
              "      <td>1</td>\n",
              "      <td>PACKAGE_THICK_ENVELOPE</td>\n",
              "      <td>2</td>\n",
              "      <td>0</td>\n",
              "      <td>13</td>\n",
              "      <td>False</td>\n",
              "      <td>2018-06-02</td>\n",
              "      <td>2018-06-01</td>\n",
              "      <td>6</td>\n",
              "      <td>2018</td>\n",
              "      <td>6</td>\n",
              "      <td>13</td>\n",
              "      <td>12</td>\n",
              "      <td>5</td>\n",
              "      <td>4</td>\n",
              "      <td>2</td>\n",
              "      <td>5.0</td>\n",
              "      <td>7.0</td>\n",
              "      <td>62521</td>\n",
              "      <td>11415</td>\n",
              "      <td>False</td>\n",
              "      <td>IL</td>\n",
              "      <td>NY</td>\n",
              "      <td>1284.515542</td>\n",
              "      <td>2</td>\n",
              "      <td>2018-06-05</td>\n",
              "      <td>3</td>\n",
              "    </tr>\n",
              "    <tr>\n",
              "      <th>2</th>\n",
              "      <td>B2C</td>\n",
              "      <td>18507</td>\n",
              "      <td>1.0</td>\n",
              "      <td>2019-01-07 16:22:00.000-05:00</td>\n",
              "      <td>0</td>\n",
              "      <td>4.50</td>\n",
              "      <td>3</td>\n",
              "      <td>5</td>\n",
              "      <td>27292</td>\n",
              "      <td>53010</td>\n",
              "      <td>1</td>\n",
              "      <td>19.90</td>\n",
              "      <td>1</td>\n",
              "      <td>2019-01-06 00:02:00.000-05:00</td>\n",
              "      <td>2019-01-10</td>\n",
              "      <td>9</td>\n",
              "      <td>1</td>\n",
              "      <td>PACKAGE_THICK_ENVELOPE</td>\n",
              "      <td>3</td>\n",
              "      <td>0</td>\n",
              "      <td>0</td>\n",
              "      <td>False</td>\n",
              "      <td>2019-01-07</td>\n",
              "      <td>2019-01-06</td>\n",
              "      <td>1</td>\n",
              "      <td>2019</td>\n",
              "      <td>1</td>\n",
              "      <td>0</td>\n",
              "      <td>16</td>\n",
              "      <td>0</td>\n",
              "      <td>6</td>\n",
              "      <td>1</td>\n",
              "      <td>4.0</td>\n",
              "      <td>6.0</td>\n",
              "      <td>53010</td>\n",
              "      <td>27292</td>\n",
              "      <td>True</td>\n",
              "      <td>WI</td>\n",
              "      <td>NC</td>\n",
              "      <td>1102.546134</td>\n",
              "      <td>2</td>\n",
              "      <td>2019-01-10</td>\n",
              "      <td>3</td>\n",
              "    </tr>\n",
              "    <tr>\n",
              "      <th>3</th>\n",
              "      <td>B2C</td>\n",
              "      <td>4677</td>\n",
              "      <td>1.0</td>\n",
              "      <td>2018-12-17 16:56:00.000-08:00</td>\n",
              "      <td>0</td>\n",
              "      <td>0.00</td>\n",
              "      <td>3</td>\n",
              "      <td>5</td>\n",
              "      <td>90703</td>\n",
              "      <td>80022</td>\n",
              "      <td>1</td>\n",
              "      <td>35.50</td>\n",
              "      <td>1</td>\n",
              "      <td>2018-12-16 10:28:28.000-08:00</td>\n",
              "      <td>2018-12-21</td>\n",
              "      <td>8</td>\n",
              "      <td>1</td>\n",
              "      <td>PACKAGE_THICK_ENVELOPE</td>\n",
              "      <td>4</td>\n",
              "      <td>0</td>\n",
              "      <td>10</td>\n",
              "      <td>False</td>\n",
              "      <td>2018-12-17</td>\n",
              "      <td>2018-12-16</td>\n",
              "      <td>12</td>\n",
              "      <td>2018</td>\n",
              "      <td>12</td>\n",
              "      <td>10</td>\n",
              "      <td>16</td>\n",
              "      <td>0</td>\n",
              "      <td>6</td>\n",
              "      <td>4</td>\n",
              "      <td>4.0</td>\n",
              "      <td>6.0</td>\n",
              "      <td>80022</td>\n",
              "      <td>90703</td>\n",
              "      <td>True</td>\n",
              "      <td>CO</td>\n",
              "      <td>CA</td>\n",
              "      <td>1343.238967</td>\n",
              "      <td>2</td>\n",
              "      <td>2018-12-21</td>\n",
              "      <td>4</td>\n",
              "    </tr>\n",
              "    <tr>\n",
              "      <th>4</th>\n",
              "      <td>B2C</td>\n",
              "      <td>4677</td>\n",
              "      <td>1.0</td>\n",
              "      <td>2018-07-27 16:48:00.000-07:00</td>\n",
              "      <td>0</td>\n",
              "      <td>0.00</td>\n",
              "      <td>3</td>\n",
              "      <td>5</td>\n",
              "      <td>90703</td>\n",
              "      <td>55070</td>\n",
              "      <td>1</td>\n",
              "      <td>25.00</td>\n",
              "      <td>1</td>\n",
              "      <td>2018-07-26 18:20:02.000-07:00</td>\n",
              "      <td>2018-07-30</td>\n",
              "      <td>3</td>\n",
              "      <td>1</td>\n",
              "      <td>PACKAGE_THICK_ENVELOPE</td>\n",
              "      <td>5</td>\n",
              "      <td>0</td>\n",
              "      <td>18</td>\n",
              "      <td>True</td>\n",
              "      <td>2018-07-27</td>\n",
              "      <td>2018-07-26</td>\n",
              "      <td>7</td>\n",
              "      <td>2018</td>\n",
              "      <td>7</td>\n",
              "      <td>18</td>\n",
              "      <td>16</td>\n",
              "      <td>4</td>\n",
              "      <td>3</td>\n",
              "      <td>3</td>\n",
              "      <td>4.0</td>\n",
              "      <td>6.0</td>\n",
              "      <td>55070</td>\n",
              "      <td>90703</td>\n",
              "      <td>True</td>\n",
              "      <td>MN</td>\n",
              "      <td>CA</td>\n",
              "      <td>2458.659875</td>\n",
              "      <td>2</td>\n",
              "      <td>2018-07-30</td>\n",
              "      <td>3</td>\n",
              "    </tr>\n",
              "    <tr>\n",
              "      <th>...</th>\n",
              "      <td>...</td>\n",
              "      <td>...</td>\n",
              "      <td>...</td>\n",
              "      <td>...</td>\n",
              "      <td>...</td>\n",
              "      <td>...</td>\n",
              "      <td>...</td>\n",
              "      <td>...</td>\n",
              "      <td>...</td>\n",
              "      <td>...</td>\n",
              "      <td>...</td>\n",
              "      <td>...</td>\n",
              "      <td>...</td>\n",
              "      <td>...</td>\n",
              "      <td>...</td>\n",
              "      <td>...</td>\n",
              "      <td>...</td>\n",
              "      <td>...</td>\n",
              "      <td>...</td>\n",
              "      <td>...</td>\n",
              "      <td>...</td>\n",
              "      <td>...</td>\n",
              "      <td>...</td>\n",
              "      <td>...</td>\n",
              "      <td>...</td>\n",
              "      <td>...</td>\n",
              "      <td>...</td>\n",
              "      <td>...</td>\n",
              "      <td>...</td>\n",
              "      <td>...</td>\n",
              "      <td>...</td>\n",
              "      <td>...</td>\n",
              "      <td>...</td>\n",
              "      <td>...</td>\n",
              "      <td>...</td>\n",
              "      <td>...</td>\n",
              "      <td>...</td>\n",
              "      <td>...</td>\n",
              "      <td>...</td>\n",
              "      <td>...</td>\n",
              "      <td>...</td>\n",
              "      <td>...</td>\n",
              "      <td>...</td>\n",
              "    </tr>\n",
              "    <tr>\n",
              "      <th>14999995</th>\n",
              "      <td>B2C</td>\n",
              "      <td>80139</td>\n",
              "      <td>5.0</td>\n",
              "      <td>2018-05-04 15:36:00.000-05:00</td>\n",
              "      <td>1</td>\n",
              "      <td>9.85</td>\n",
              "      <td>2</td>\n",
              "      <td>5</td>\n",
              "      <td>60010</td>\n",
              "      <td>08846</td>\n",
              "      <td>3</td>\n",
              "      <td>7.35</td>\n",
              "      <td>1</td>\n",
              "      <td>2018-04-30 22:30:00.000-05:00</td>\n",
              "      <td>2018-05-07</td>\n",
              "      <td>32</td>\n",
              "      <td>1</td>\n",
              "      <td>PACKAGE_THICK_ENVELOPE</td>\n",
              "      <td>14999996</td>\n",
              "      <td>0</td>\n",
              "      <td>22</td>\n",
              "      <td>True</td>\n",
              "      <td>2018-05-04</td>\n",
              "      <td>2018-04-30</td>\n",
              "      <td>4</td>\n",
              "      <td>2018</td>\n",
              "      <td>5</td>\n",
              "      <td>22</td>\n",
              "      <td>15</td>\n",
              "      <td>4</td>\n",
              "      <td>0</td>\n",
              "      <td>2</td>\n",
              "      <td>7.0</td>\n",
              "      <td>10.0</td>\n",
              "      <td>08846</td>\n",
              "      <td>60010</td>\n",
              "      <td>True</td>\n",
              "      <td>NJ</td>\n",
              "      <td>IL</td>\n",
              "      <td>1150.326675</td>\n",
              "      <td>2</td>\n",
              "      <td>2018-05-07</td>\n",
              "      <td>3</td>\n",
              "    </tr>\n",
              "    <tr>\n",
              "      <th>14999996</th>\n",
              "      <td>C2C</td>\n",
              "      <td>452486</td>\n",
              "      <td>2.0</td>\n",
              "      <td>2018-05-02 14:53:00.000-04:00</td>\n",
              "      <td>2</td>\n",
              "      <td>0.00</td>\n",
              "      <td>2</td>\n",
              "      <td>9</td>\n",
              "      <td>47909</td>\n",
              "      <td>29070</td>\n",
              "      <td>1</td>\n",
              "      <td>36.00</td>\n",
              "      <td>1</td>\n",
              "      <td>2018-05-01 19:59:43.000-04:00</td>\n",
              "      <td>2018-05-08</td>\n",
              "      <td>64</td>\n",
              "      <td>1</td>\n",
              "      <td>PACKAGE_THICK_ENVELOPE</td>\n",
              "      <td>14999997</td>\n",
              "      <td>0</td>\n",
              "      <td>19</td>\n",
              "      <td>True</td>\n",
              "      <td>2018-05-02</td>\n",
              "      <td>2018-05-01</td>\n",
              "      <td>5</td>\n",
              "      <td>2018</td>\n",
              "      <td>5</td>\n",
              "      <td>19</td>\n",
              "      <td>14</td>\n",
              "      <td>2</td>\n",
              "      <td>1</td>\n",
              "      <td>2</td>\n",
              "      <td>4.0</td>\n",
              "      <td>11.0</td>\n",
              "      <td>29070</td>\n",
              "      <td>47909</td>\n",
              "      <td>False</td>\n",
              "      <td>SC</td>\n",
              "      <td>IN</td>\n",
              "      <td>859.593302</td>\n",
              "      <td>2</td>\n",
              "      <td>2018-05-08</td>\n",
              "      <td>6</td>\n",
              "    </tr>\n",
              "    <tr>\n",
              "      <th>14999997</th>\n",
              "      <td>B2C</td>\n",
              "      <td>43307</td>\n",
              "      <td>3.0</td>\n",
              "      <td>2018-06-06 15:21:00.000-07:00</td>\n",
              "      <td>2</td>\n",
              "      <td>2.99</td>\n",
              "      <td>2</td>\n",
              "      <td>9</td>\n",
              "      <td>91766</td>\n",
              "      <td>62363</td>\n",
              "      <td>0</td>\n",
              "      <td>7.99</td>\n",
              "      <td>1</td>\n",
              "      <td>2018-06-05 14:20:14.000-07:00</td>\n",
              "      <td>2018-06-11</td>\n",
              "      <td>0</td>\n",
              "      <td>1</td>\n",
              "      <td>NONE</td>\n",
              "      <td>14999998</td>\n",
              "      <td>0</td>\n",
              "      <td>14</td>\n",
              "      <td>True</td>\n",
              "      <td>2018-06-06</td>\n",
              "      <td>2018-06-05</td>\n",
              "      <td>6</td>\n",
              "      <td>2018</td>\n",
              "      <td>6</td>\n",
              "      <td>14</td>\n",
              "      <td>15</td>\n",
              "      <td>2</td>\n",
              "      <td>1</td>\n",
              "      <td>2</td>\n",
              "      <td>5.0</td>\n",
              "      <td>12.0</td>\n",
              "      <td>62363</td>\n",
              "      <td>91766</td>\n",
              "      <td>True</td>\n",
              "      <td>IL</td>\n",
              "      <td>CA</td>\n",
              "      <td>2466.969970</td>\n",
              "      <td>0</td>\n",
              "      <td>2018-06-11</td>\n",
              "      <td>5</td>\n",
              "    </tr>\n",
              "    <tr>\n",
              "      <th>14999998</th>\n",
              "      <td>B2C</td>\n",
              "      <td>24235</td>\n",
              "      <td>1.0</td>\n",
              "      <td>2018-12-17 10:55:00.000-05:00</td>\n",
              "      <td>0</td>\n",
              "      <td>0.00</td>\n",
              "      <td>3</td>\n",
              "      <td>5</td>\n",
              "      <td>18011</td>\n",
              "      <td>000</td>\n",
              "      <td>1</td>\n",
              "      <td>34.99</td>\n",
              "      <td>1</td>\n",
              "      <td>2018-12-16 15:01:46.000-05:00</td>\n",
              "      <td>2018-12-20</td>\n",
              "      <td>13</td>\n",
              "      <td>1</td>\n",
              "      <td>PACKAGE_THICK_ENVELOPE</td>\n",
              "      <td>14999999</td>\n",
              "      <td>0</td>\n",
              "      <td>15</td>\n",
              "      <td>True</td>\n",
              "      <td>2018-12-17</td>\n",
              "      <td>2018-12-16</td>\n",
              "      <td>12</td>\n",
              "      <td>2018</td>\n",
              "      <td>12</td>\n",
              "      <td>15</td>\n",
              "      <td>10</td>\n",
              "      <td>0</td>\n",
              "      <td>6</td>\n",
              "      <td>4</td>\n",
              "      <td>4.0</td>\n",
              "      <td>6.0</td>\n",
              "      <td>000</td>\n",
              "      <td>18011</td>\n",
              "      <td>True</td>\n",
              "      <td>NaN</td>\n",
              "      <td>PA</td>\n",
              "      <td>NaN</td>\n",
              "      <td>2</td>\n",
              "      <td>2018-12-20</td>\n",
              "      <td>3</td>\n",
              "    </tr>\n",
              "    <tr>\n",
              "      <th>14999999</th>\n",
              "      <td>C2C</td>\n",
              "      <td>535916</td>\n",
              "      <td>3.0</td>\n",
              "      <td>2018-05-03 12:56:00.000-04:00</td>\n",
              "      <td>1</td>\n",
              "      <td>7.45</td>\n",
              "      <td>2</td>\n",
              "      <td>5</td>\n",
              "      <td>16686</td>\n",
              "      <td>65673</td>\n",
              "      <td>3</td>\n",
              "      <td>205.50</td>\n",
              "      <td>1</td>\n",
              "      <td>2018-05-01 11:20:08.000-04:00</td>\n",
              "      <td>2018-05-07</td>\n",
              "      <td>15</td>\n",
              "      <td>1</td>\n",
              "      <td>PACKAGE_THICK_ENVELOPE</td>\n",
              "      <td>15000000</td>\n",
              "      <td>0</td>\n",
              "      <td>11</td>\n",
              "      <td>False</td>\n",
              "      <td>2018-05-03</td>\n",
              "      <td>2018-05-01</td>\n",
              "      <td>5</td>\n",
              "      <td>2018</td>\n",
              "      <td>5</td>\n",
              "      <td>11</td>\n",
              "      <td>12</td>\n",
              "      <td>3</td>\n",
              "      <td>1</td>\n",
              "      <td>2</td>\n",
              "      <td>5.0</td>\n",
              "      <td>8.0</td>\n",
              "      <td>65673</td>\n",
              "      <td>16686</td>\n",
              "      <td>False</td>\n",
              "      <td>MO</td>\n",
              "      <td>PA</td>\n",
              "      <td>1373.990464</td>\n",
              "      <td>2</td>\n",
              "      <td>2018-05-07</td>\n",
              "      <td>4</td>\n",
              "    </tr>\n",
              "  </tbody>\n",
              "</table>\n",
              "<p>14985134 rows × 43 columns</p>\n",
              "</div>"
            ],
            "text/plain": [
              "         b2c_c2c  seller_id  ...  delivery_date2 duration\n",
              "0            B2C      25454  ...      2019-03-29        3\n",
              "1            C2C    6727381  ...      2018-06-05        3\n",
              "2            B2C      18507  ...      2019-01-10        3\n",
              "3            B2C       4677  ...      2018-12-21        4\n",
              "4            B2C       4677  ...      2018-07-30        3\n",
              "...          ...        ...  ...             ...      ...\n",
              "14999995     B2C      80139  ...      2018-05-07        3\n",
              "14999996     C2C     452486  ...      2018-05-08        6\n",
              "14999997     B2C      43307  ...      2018-06-11        5\n",
              "14999998     B2C      24235  ...      2018-12-20        3\n",
              "14999999     C2C     535916  ...      2018-05-07        4\n",
              "\n",
              "[14985134 rows x 43 columns]"
            ]
          },
          "execution_count": 28,
          "metadata": {},
          "output_type": "execute_result"
        }
      ],
      "source": [
        "df"
      ]
    },
    {
      "cell_type": "code",
      "execution_count": null,
      "metadata": {
        "id": "V9Qf8vcFaodr"
      },
      "outputs": [],
      "source": [
        "df_subset = df.loc[:, ['buyer_state', 'item_state', 'duration']]\n",
        "df1 = df_subset.groupby(['buyer_state', 'item_state']).duration.agg(['max', 'min','mean', q25, 'median', q75])\n"
      ]
    },
    {
      "cell_type": "code",
      "execution_count": null,
      "metadata": {
        "id": "L_hdVDj_GygD"
      },
      "outputs": [],
      "source": [
        "df = df.join(df1, on=['buyer_state', 'item_state'], how = 'left')\n",
        "quiz = quiz.join(df1, on = ['buyer_state', 'item_state'], how = 'left')"
      ]
    },
    {
      "cell_type": "markdown",
      "metadata": {
        "id": "_-zwRv85652J"
      },
      "source": [
        "#Train the XGboost"
      ]
    },
    {
      "cell_type": "code",
      "execution_count": null,
      "metadata": {
        "colab": {
          "base_uri": "https://localhost:8080/"
        },
        "id": "k6Alnp_dcbv_",
        "outputId": "db349880-c6c5-493e-ed7d-a60b821f5476"
      },
      "outputs": [
        {
          "name": "stdout",
          "output_type": "stream",
          "text": [
            "Mounted at /content/drive\n",
            "/content/drive/MyDrive/ebay\n"
          ]
        }
      ],
      "source": [
        "import pandas as pd\n",
        "import numpy as np\n",
        "from numpy import random\n",
        "random.seed(1998)\n",
        "from google.colab import drive\n",
        "drive.mount('/content/drive')\n",
        "%cd /content/drive/MyDrive/ebay"
      ]
    },
    {
      "cell_type": "code",
      "execution_count": null,
      "metadata": {
        "id": "iy3z_BwgnTXs"
      },
      "outputs": [],
      "source": [
        "##If needed to load in data, here is the way\n",
        "df = pd.read_hdf('Xgboost_trainingdata.h5')\n",
        "quiz = pd.read_hdf('Xgboost_quiz.h5')"
      ]
    },
    {
      "cell_type": "code",
      "execution_count": null,
      "metadata": {
        "colab": {
          "base_uri": "https://localhost:8080/"
        },
        "id": "OtKf315ujX56",
        "outputId": "1b49e3ac-990c-41f2-c158-cad1673b8d51"
      },
      "outputs": [
        {
          "data": {
            "text/plain": [
              "Index(['Is_within_US', 'is_payment_weekend', 'is_scan_weeknd', 'item_lat',\n",
              "       'item_long', 'buyer_lat', 'buyer_long', 'B2B', 'seller_id',\n",
              "       'declared_handling_days', 'shipment_method_id', 'shipping_fee',\n",
              "       'carrier_min_estimate', 'carrier_max_estimate', 'category_id',\n",
              "       'item_price', 'quantity', 'weight', 'weight_units',\n",
              "       'time_zone_difference', 'seller_hour', 'larger_than_2pm', 'pay_month',\n",
              "       'pay_year', 'scan_month', 'payment_hour', 'scan_hour', 'Weekday_scan',\n",
              "       'Weekday_pay', 'payment_quarter', 'min_delivery', 'max_delivery',\n",
              "       'distance', 'max', 'min', 'mean', 'q25', 'median', 'q75',\n",
              "       'size_ordinal', 'duration'],\n",
              "      dtype='object')"
            ]
          },
          "execution_count": 6,
          "metadata": {},
          "output_type": "execute_result"
        }
      ],
      "source": [
        "df.columns"
      ]
    },
    {
      "cell_type": "code",
      "execution_count": null,
      "metadata": {
        "id": "jLmAX-oKeGHt"
      },
      "outputs": [],
      "source": [
        "\n",
        "X_quiz = quiz[['Is_within_US','is_payment_weekend', 'is_scan_weeknd','item_lat', 'item_long', 'buyer_lat', 'buyer_long','B2B','seller_id' ,'declared_handling_days','shipment_method_id','shipping_fee','carrier_min_estimate','carrier_max_estimate','category_id','item_price','quantity','weight','weight_units','time_zone_difference','seller_hour','larger_than_2pm','pay_month','pay_year','scan_month','payment_hour','scan_hour','Weekday_scan','Weekday_pay','payment_quarter','min_delivery','max_delivery','distance','max','min'\t,'mean'\t,'q25',\t'median','q75','size_ordinal']]"
      ]
    },
    {
      "cell_type": "code",
      "execution_count": null,
      "metadata": {
        "id": "OBA6tqkSfxkf"
      },
      "outputs": [],
      "source": [
        "X = df[['Is_within_US','is_payment_weekend', 'is_scan_weeknd','item_lat', 'item_long', 'buyer_lat', 'buyer_long','B2B','seller_id' ,'declared_handling_days','shipment_method_id','shipping_fee','carrier_min_estimate','carrier_max_estimate','category_id','item_price','quantity','weight','weight_units','time_zone_difference','seller_hour','larger_than_2pm','pay_month','pay_year','scan_month','payment_hour','scan_hour','Weekday_scan','Weekday_pay','payment_quarter','min_delivery','max_delivery','distance','max','min'\t,'mean'\t,'q25',\t'median','q75','size_ordinal']]\n",
        "y = df[['duration']]\n",
        "\n"
      ]
    },
    {
      "cell_type": "code",
      "execution_count": null,
      "metadata": {
        "id": "-ILnqJCAgJuq"
      },
      "outputs": [],
      "source": [
        "#X_quiz.to_hdf('Xgboost_quiz.h5', key = 'X_quiz', mode = 'w')"
      ]
    },
    {
      "cell_type": "code",
      "execution_count": null,
      "metadata": {
        "id": "J-Fw6qhne-Rg"
      },
      "outputs": [],
      "source": [
        "import xgboost as xgb\n",
        "from sklearn.metrics import mean_squared_error"
      ]
    },
    {
      "cell_type": "code",
      "execution_count": null,
      "metadata": {
        "id": "k_3wfMm3f1s4"
      },
      "outputs": [],
      "source": [
        "data_dmatrix = xgb.DMatrix(data=X,label=y)\n",
        "\n",
        "from sklearn.model_selection import train_test_split\n",
        "X_train, X_test, y_train, y_test = train_test_split(X, y, test_size=0.2, random_state=123)\n",
        "\n",
        "xg_reg = xgb.XGBRegressor(objective ='reg:linear', colsample_bytree = 0.5, learning_rate = 0.1,\n",
        "                max_depth = 7, alpha = 10, n_estimators = 100)"
      ]
    },
    {
      "cell_type": "code",
      "execution_count": null,
      "metadata": {
        "colab": {
          "background_save": true,
          "base_uri": "https://localhost:8080/"
        },
        "id": "DIIsb_h3CPAm",
        "outputId": "60920887-f242-4a86-a9a7-13345573cbfc"
      },
      "outputs": [
        {
          "name": "stdout",
          "output_type": "stream",
          "text": [
            "[22:24:18] WARNING: /workspace/src/objective/regression_obj.cu:152: reg:linear is now deprecated in favor of reg:squarederror.\n",
            "[22:24:18] WARNING: /workspace/src/learner.cc:686: Tree method is automatically selected to be 'approx' for faster speed. To use old behavior (exact greedy algorithm on single machine), set tree_method to 'exact'.\n",
            "RMSE: 1.419268\n"
          ]
        }
      ],
      "source": [
        "xg_reg.fit(X_train,y_train)\n",
        "\n",
        "preds = xg_reg.predict(X_test)\n",
        "rmse = np.sqrt(mean_squared_error(y_test, preds))\n",
        "print(\"RMSE: %f\" % (rmse))"
      ]
    },
    {
      "cell_type": "code",
      "execution_count": null,
      "metadata": {
        "colab": {
          "base_uri": "https://localhost:8080/"
        },
        "id": "9lsdcg-GCHIU",
        "outputId": "cc3c6ec2-d97c-4c98-f954-f0733f32f921"
      },
      "outputs": [
        {
          "name": "stdout",
          "output_type": "stream",
          "text": [
            "RMSE: 1.425460\n"
          ]
        }
      ],
      "source": [
        "print(\"RMSE: %f\" % (rmse))"
      ]
    },
    {
      "cell_type": "code",
      "execution_count": null,
      "metadata": {
        "id": "YjD6F4kuCRb8"
      },
      "outputs": [],
      "source": [
        "def loss(preds, y_test):\n",
        "  new_y = y_test.values.flatten()\n",
        "  result = new_y - preds\n",
        "  late = 0\n",
        "  early = 0\n",
        "  for i in range(len(result)):\n",
        "    if result[i] > 0:\n",
        "      late = late + result[i]\n",
        "    elif result[i] < 0:\n",
        "      early = early + abs(result[i])\n",
        "  \n",
        "  total = (early*0.4 + late*0.6)/len(result)\n",
        "  return total"
      ]
    },
    {
      "cell_type": "code",
      "execution_count": null,
      "metadata": {
        "colab": {
          "base_uri": "https://localhost:8080/"
        },
        "id": "7G8JVZAQo25e",
        "outputId": "bd089456-c4f9-4252-bfd8-cd2f40b1ba23"
      },
      "outputs": [
        {
          "output_type": "stream",
          "name": "stdout",
          "text": [
            "LOSS: 0.420468\n"
          ]
        }
      ],
      "source": [
        "print(\"LOSS: %f\" % (loss(preds, y_test)))\n"
      ]
    },
    {
      "cell_type": "code",
      "execution_count": null,
      "metadata": {
        "id": "s54YP6mUF8Sk"
      },
      "outputs": [],
      "source": [
        "def rounding(arr, value):\n",
        "  new = np.zeros(np.shape(arr))\n",
        "  for i in range(len(arr)):\n",
        "    if arr[i] - arr[i]//1 <= value:\n",
        "      new[i] = arr[i]//1\n",
        "    else:\n",
        "      new[i] = arr[i]//1 + 1\n",
        "  return new"
      ]
    },
    {
      "cell_type": "code",
      "execution_count": null,
      "metadata": {
        "id": "poi5tcMsIHSI"
      },
      "outputs": [],
      "source": [
        "#see what will be the optimal rounding rule\n",
        "grid = [0.62, 0.63, 0.65,0.66]\n",
        "def find_optimal_rounding(preds, y_test):\n",
        "  for i in range(len(grid)):\n",
        "    new_pred = rounding(preds, grid[i])\n",
        "    print(\"LOSS: %f\" % (loss(new_pred, y_test)))\n"
      ]
    },
    {
      "cell_type": "code",
      "execution_count": null,
      "metadata": {
        "id": "xBnBCKj5En6u"
      },
      "outputs": [],
      "source": [
        "#this seems to be not working\n",
        "\n",
        "def loss(preds, dtrain):\n",
        "    ''' Customized loss function designing to punish earlier delivery date more than later delivery date'''\n",
        "    y = dtrain.get_label()\n",
        "    early = (sum(abs(preds[preds < y] - y[preds < y])))*0.4\n",
        "    late = (sum(abs(preds[preds > y] - y[preds < y])))*0.6\n",
        "    loss = (early + late)/len(y)\n",
        "    return 'loss', loss"
      ]
    },
    {
      "cell_type": "code",
      "execution_count": null,
      "metadata": {
        "id": "_NxixdKiErFH",
        "colab": {
          "base_uri": "https://localhost:8080/",
          "height": 107
        },
        "outputId": "3b983aea-e025-4a0e-82f5-15d7fb471c60"
      },
      "outputs": [
        {
          "metadata": {
            "tags": null
          },
          "name": "stdout",
          "output_type": "stream",
          "text": [
            "[01:24:01] WARNING: /workspace/src/objective/regression_obj.cu:152: reg:linear is now deprecated in favor of reg:squarederror.\n",
            "[01:24:01] WARNING: /workspace/src/learner.cc:686: Tree method is automatically selected to be 'approx' for faster speed. To use old behavior (exact greedy algorithm on single machine), set tree_method to 'exact'.\n"
          ]
        },
        {
          "output_type": "execute_result",
          "data": {
            "application/vnd.google.colaboratory.intrinsic+json": {
              "type": "string"
            },
            "text/plain": [
              "'cv_results = xgb.cv(dtrain=data_dmatrix, params=params, nfold=5,\\n                , early_stopping_rounds=10,metrics=\"rmse\"\\n          as_pandas=True, seed=123)'"
            ]
          },
          "metadata": {},
          "execution_count": 22
        }
      ],
      "source": [
        "'''params = {\"objective\":\"reg:linear\",'colsample_bytree': 0.5,'learning_rate': 0.1,\n",
        "                'max_depth':7, 'alpha': 10, 'n_estimators': 100, 'num_boost_round':100 } # 'disable_default_eval_metric': 1\n",
        "\n",
        "xg_reg = xgb.train(params=params, dtrain=data_dmatrix)'''\n",
        "'''cv_results = xgb.cv(dtrain=data_dmatrix, params=params, nfold=5,\n",
        "                , early_stopping_rounds=10,metrics=\"rmse\"\n",
        "          as_pandas=True, seed=123)'''"
      ]
    },
    {
      "cell_type": "code",
      "source": [
        "preds_quiz = xg_reg.predict(xgb.DMatrix(X_quiz))"
      ],
      "metadata": {
        "id": "DzA1in9WfOKG"
      },
      "execution_count": null,
      "outputs": []
    },
    {
      "cell_type": "code",
      "execution_count": null,
      "metadata": {
        "id": "8BEUCHn6SI68",
        "colab": {
          "base_uri": "https://localhost:8080/",
          "height": 312
        },
        "outputId": "61d43f70-f15d-47e4-80d6-4c99200721ea"
      },
      "outputs": [
        {
          "output_type": "error",
          "ename": "AttributeError",
          "evalue": "ignored",
          "traceback": [
            "\u001b[0;31m---------------------------------------------------------------------------\u001b[0m",
            "\u001b[0;31mAttributeError\u001b[0m                            Traceback (most recent call last)",
            "\u001b[0;32m<ipython-input-23-68e490bafb48>\u001b[0m in \u001b[0;36m<module>\u001b[0;34m()\u001b[0m\n\u001b[0;32m----> 1\u001b[0;31m \u001b[0mpreds_quiz\u001b[0m \u001b[0;34m=\u001b[0m \u001b[0mxg_reg\u001b[0m\u001b[0;34m.\u001b[0m\u001b[0mpredict\u001b[0m\u001b[0;34m(\u001b[0m\u001b[0mX_quiz\u001b[0m\u001b[0;34m)\u001b[0m\u001b[0;34m\u001b[0m\u001b[0;34m\u001b[0m\u001b[0m\n\u001b[0m",
            "\u001b[0;32m/usr/local/lib/python3.7/dist-packages/xgboost/core.py\u001b[0m in \u001b[0;36mpredict\u001b[0;34m(self, data, output_margin, ntree_limit, pred_leaf, pred_contribs, approx_contribs, pred_interactions, validate_features)\u001b[0m\n\u001b[1;32m   1282\u001b[0m \u001b[0;34m\u001b[0m\u001b[0m\n\u001b[1;32m   1283\u001b[0m         \u001b[0;32mif\u001b[0m \u001b[0mvalidate_features\u001b[0m\u001b[0;34m:\u001b[0m\u001b[0;34m\u001b[0m\u001b[0;34m\u001b[0m\u001b[0m\n\u001b[0;32m-> 1284\u001b[0;31m             \u001b[0mself\u001b[0m\u001b[0;34m.\u001b[0m\u001b[0m_validate_features\u001b[0m\u001b[0;34m(\u001b[0m\u001b[0mdata\u001b[0m\u001b[0;34m)\u001b[0m\u001b[0;34m\u001b[0m\u001b[0;34m\u001b[0m\u001b[0m\n\u001b[0m\u001b[1;32m   1285\u001b[0m \u001b[0;34m\u001b[0m\u001b[0m\n\u001b[1;32m   1286\u001b[0m         \u001b[0mlength\u001b[0m \u001b[0;34m=\u001b[0m \u001b[0mc_bst_ulong\u001b[0m\u001b[0;34m(\u001b[0m\u001b[0;34m)\u001b[0m\u001b[0;34m\u001b[0m\u001b[0;34m\u001b[0m\u001b[0m\n",
            "\u001b[0;32m/usr/local/lib/python3.7/dist-packages/xgboost/core.py\u001b[0m in \u001b[0;36m_validate_features\u001b[0;34m(self, data)\u001b[0m\n\u001b[1;32m   1673\u001b[0m         \u001b[0;32melse\u001b[0m\u001b[0;34m:\u001b[0m\u001b[0;34m\u001b[0m\u001b[0;34m\u001b[0m\u001b[0m\n\u001b[1;32m   1674\u001b[0m             \u001b[0;31m# Booster can't accept data with different feature names\u001b[0m\u001b[0;34m\u001b[0m\u001b[0;34m\u001b[0m\u001b[0;34m\u001b[0m\u001b[0m\n\u001b[0;32m-> 1675\u001b[0;31m             \u001b[0;32mif\u001b[0m \u001b[0mself\u001b[0m\u001b[0;34m.\u001b[0m\u001b[0mfeature_names\u001b[0m \u001b[0;34m!=\u001b[0m \u001b[0mdata\u001b[0m\u001b[0;34m.\u001b[0m\u001b[0mfeature_names\u001b[0m\u001b[0;34m:\u001b[0m\u001b[0;34m\u001b[0m\u001b[0;34m\u001b[0m\u001b[0m\n\u001b[0m\u001b[1;32m   1676\u001b[0m                 \u001b[0mdat_missing\u001b[0m \u001b[0;34m=\u001b[0m \u001b[0mset\u001b[0m\u001b[0;34m(\u001b[0m\u001b[0mself\u001b[0m\u001b[0;34m.\u001b[0m\u001b[0mfeature_names\u001b[0m\u001b[0;34m)\u001b[0m \u001b[0;34m-\u001b[0m \u001b[0mset\u001b[0m\u001b[0;34m(\u001b[0m\u001b[0mdata\u001b[0m\u001b[0;34m.\u001b[0m\u001b[0mfeature_names\u001b[0m\u001b[0;34m)\u001b[0m\u001b[0;34m\u001b[0m\u001b[0;34m\u001b[0m\u001b[0m\n\u001b[1;32m   1677\u001b[0m                 \u001b[0mmy_missing\u001b[0m \u001b[0;34m=\u001b[0m \u001b[0mset\u001b[0m\u001b[0;34m(\u001b[0m\u001b[0mdata\u001b[0m\u001b[0;34m.\u001b[0m\u001b[0mfeature_names\u001b[0m\u001b[0;34m)\u001b[0m \u001b[0;34m-\u001b[0m \u001b[0mset\u001b[0m\u001b[0;34m(\u001b[0m\u001b[0mself\u001b[0m\u001b[0;34m.\u001b[0m\u001b[0mfeature_names\u001b[0m\u001b[0;34m)\u001b[0m\u001b[0;34m\u001b[0m\u001b[0;34m\u001b[0m\u001b[0m\n",
            "\u001b[0;32m/usr/local/lib/python3.7/dist-packages/pandas/core/generic.py\u001b[0m in \u001b[0;36m__getattr__\u001b[0;34m(self, name)\u001b[0m\n\u001b[1;32m   5139\u001b[0m             \u001b[0;32mif\u001b[0m \u001b[0mself\u001b[0m\u001b[0;34m.\u001b[0m\u001b[0m_info_axis\u001b[0m\u001b[0;34m.\u001b[0m\u001b[0m_can_hold_identifiers_and_holds_name\u001b[0m\u001b[0;34m(\u001b[0m\u001b[0mname\u001b[0m\u001b[0;34m)\u001b[0m\u001b[0;34m:\u001b[0m\u001b[0;34m\u001b[0m\u001b[0;34m\u001b[0m\u001b[0m\n\u001b[1;32m   5140\u001b[0m                 \u001b[0;32mreturn\u001b[0m \u001b[0mself\u001b[0m\u001b[0;34m[\u001b[0m\u001b[0mname\u001b[0m\u001b[0;34m]\u001b[0m\u001b[0;34m\u001b[0m\u001b[0;34m\u001b[0m\u001b[0m\n\u001b[0;32m-> 5141\u001b[0;31m             \u001b[0;32mreturn\u001b[0m \u001b[0mobject\u001b[0m\u001b[0;34m.\u001b[0m\u001b[0m__getattribute__\u001b[0m\u001b[0;34m(\u001b[0m\u001b[0mself\u001b[0m\u001b[0;34m,\u001b[0m \u001b[0mname\u001b[0m\u001b[0;34m)\u001b[0m\u001b[0;34m\u001b[0m\u001b[0;34m\u001b[0m\u001b[0m\n\u001b[0m\u001b[1;32m   5142\u001b[0m \u001b[0;34m\u001b[0m\u001b[0m\n\u001b[1;32m   5143\u001b[0m     \u001b[0;32mdef\u001b[0m \u001b[0m__setattr__\u001b[0m\u001b[0;34m(\u001b[0m\u001b[0mself\u001b[0m\u001b[0;34m,\u001b[0m \u001b[0mname\u001b[0m\u001b[0;34m:\u001b[0m \u001b[0mstr\u001b[0m\u001b[0;34m,\u001b[0m \u001b[0mvalue\u001b[0m\u001b[0;34m)\u001b[0m \u001b[0;34m->\u001b[0m \u001b[0;32mNone\u001b[0m\u001b[0;34m:\u001b[0m\u001b[0;34m\u001b[0m\u001b[0;34m\u001b[0m\u001b[0m\n",
            "\u001b[0;31mAttributeError\u001b[0m: 'DataFrame' object has no attribute 'feature_names'"
          ]
        }
      ],
      "source": [
        "#use this if did not use train\n",
        "preds_quiz = xg_reg.predict(X_quiz)"
      ]
    },
    {
      "cell_type": "code",
      "execution_count": null,
      "metadata": {
        "id": "HMi6vwzjSjXx"
      },
      "outputs": [],
      "source": [
        "preds_round = preds_quiz.round()\n",
        "quiz['duration'] = pd.DataFrame({'col': preds_round.tolist()})\n",
        "quiz['delivery_date'] = quiz['acceptance_scan_time2'] + pd.to_timedelta(quiz['duration'], unit='D')\n",
        "quiz['delivery_date'] = quiz['delivery_date'].astype(str)\n",
        "submit = quiz[['record_number','delivery_date']]\n",
        "submit.to_csv(\"submit_1118_depth7_max10_n70_.tsv.gz\", \n",
        "           index=False, sep='\\t', header = False, compression = 'gzip')"
      ]
    },
    {
      "cell_type": "code",
      "execution_count": null,
      "metadata": {
        "id": "LGZ4iYtxUdxZ"
      },
      "outputs": [],
      "source": [
        "def rounding_rule(arr):\n",
        "  new = np.zeros(np.shape(arr))\n",
        "  for i in range(len(arr)):\n",
        "    if arr[i] - arr[i]//1 <= 0.91:\n",
        "      new[i] = arr[i]//1\n",
        "    else:\n",
        "      new[i] = arr[i]//1 + 1\n",
        "  return new\n",
        "\n"
      ]
    },
    {
      "cell_type": "code",
      "execution_count": null,
      "metadata": {
        "id": "2xbWnFKWMbHE"
      },
      "outputs": [],
      "source": [
        "quiz = pd.read_csv('eBay_ML_Challenge_Dataset_2021_quiz.tsv', sep='\\t')"
      ]
    },
    {
      "cell_type": "code",
      "execution_count": null,
      "metadata": {
        "id": "3djhI2R0Mrey"
      },
      "outputs": [],
      "source": [
        "\n",
        "quiz['acceptance_scan_time2'] = quiz['acceptance_scan_timestamp'].apply(lambda x: x[:10])\n",
        "quiz['acceptance_scan_time2'] = pd.to_datetime(quiz['acceptance_scan_time2'])"
      ]
    },
    {
      "cell_type": "code",
      "execution_count": null,
      "metadata": {
        "id": "hyZ_9a7bMPz2"
      },
      "outputs": [],
      "source": [
        "preds_new = rounding_rule(preds_quiz)\n",
        "quiz['duration_91'] = pd.DataFrame({'col': preds_new.tolist()})\n",
        "quiz['delivery_date_91'] = quiz['acceptance_scan_time2'] + pd.to_timedelta(quiz['duration_91'], unit='D')\n",
        "submit_new = quiz[['record_number','delivery_date_91']]\n",
        "submit_new.to_csv(\"submit_0106_depth7_max10_n100_cosample05_round91_trainwholedataset.tsv.gz\", \n",
        "           index=False, sep='\\t', header = False, compression = 'gzip')"
      ]
    },
    {
      "cell_type": "code",
      "execution_count": null,
      "metadata": {
        "id": "5d0rw3ZU_9Pi"
      },
      "outputs": [],
      "source": [
        "#the minimum loss\n",
        "#is when you only merge on data ['buyer_state', 'item_state']\n",
        "#max_depth = 7, alpha = 10, number_estimators = 100, rounding = 83"
      ]
    }
  ],
  "metadata": {
    "colab": {
      "collapsed_sections": [],
      "machine_shape": "hm",
      "name": "20220103XGboost_with_latitude_loss_0.4479_.ipynb",
      "provenance": []
    },
    "kernelspec": {
      "display_name": "Python 3",
      "name": "python3"
    },
    "language_info": {
      "name": "python"
    }
  },
  "nbformat": 4,
  "nbformat_minor": 0
}